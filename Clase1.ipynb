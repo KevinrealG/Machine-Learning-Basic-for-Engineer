{
 "cells": [
  {
   "cell_type": "markdown",
   "metadata": {},
   "source": [
    "# Creación de un Modelo de Regresión Lineal Simple con Scikit-learn\n",
    "## Profesor: Kevin Sossa\n",
    "## Curso: Machine Learning\n",
    "## Estudiante: \n"
   ]
  },
  {
   "cell_type": "markdown",
   "metadata": {},
   "source": [
    "> **Objetivos:** Crear y entrenar un modelo de regresión simple utilizando scikit-learn."
   ]
  },
  {
   "cell_type": "markdown",
   "metadata": {},
   "source": [
    "Estructura del Notebook:\n",
    "Importación de Bibliotecas:\n",
    "\n",
    "- Cargaremos las bibliotecas necesarias para trabajar con datos, realizar visualizaciones y construir el modelo de regresión lineal.\n",
    "- Creación del Dataset:\n",
    "\n",
    "- Se creará un dataset ficticio con información sobre la inversión en marketing y las ventas correspondientes.\n",
    "Exploración Visual de Datos:\n",
    "\n",
    "- Se generará un gráfico de dispersión para observar la relación entre las variables y tener una primera visualización de la tendencia.\n",
    "- Preparación de los Datos:\n",
    "\n",
    "- Se separarán los datos en variables independientes (X) y dependientes (y), y se dividirán en conjuntos de entrenamiento y prueba.\n",
    "- Construcción y Entrenamiento del Modelo:\n",
    "\n",
    "- Usaremos el algoritmo de regresión lineal simple de scikit-learn para crear y entrenar el modelo con los datos de entrenamiento.\n",
    "Predicción y Evaluación del Modelo:\n",
    "\n",
    "- Realizaremos predicciones sobre los datos de prueba y evaluaremos el rendimiento del modelo mediante métricas como el Error Cuadrático Medio (MSE) y el coeficiente de determinación (R²).\n",
    "Visualización de los Resultados:\n",
    "\n",
    "- Se generarán gráficos para comparar los valores reales y las predicciones del modelo.\n",
    "Interpretación de los Resultados:\n",
    "\n",
    "Se analizarán los coeficientes de la recta de regresión, es decir, la pendiente y la ordenada al origen, para interpretar cómo la inversión en marketing influye en las ventas."
   ]
  },
  {
   "cell_type": "markdown",
   "metadata": {
    "vscode": {
     "languageId": "plaintext"
    }
   },
   "source": []
  },
  {
   "cell_type": "code",
   "execution_count": null,
   "metadata": {},
   "outputs": [],
   "source": [
    "# Importar bibliotecas necesarias\n",
    "import numpy as np\n",
    "import pandas as pd\n",
    "import matplotlib.pyplot as plt\n",
    "import seaborn as sns\n",
    "\n",
    "# Entrenas tu modelo arbol de decision\n",
    "from sklearn.tree import DecisionTreeClassifier\n",
    "\n"
   ]
  },
  {
   "cell_type": "code",
   "execution_count": null,
   "metadata": {
    "vscode": {
     "languageId": "plaintext"
    }
   },
   "outputs": [],
   "source": []
  },
  {
   "cell_type": "markdown",
   "metadata": {},
   "source": [
    "# Crear un dataset pequeño\n"
   ]
  },
  {
   "cell_type": "markdown",
   "metadata": {},
   "source": [
    "# Visualización inicial del dataset\n"
   ]
  },
  {
   "cell_type": "markdown",
   "metadata": {},
   "source": [
    "# Gráfico para visualizar la relación entre la inversión en marketing y las ventas\n"
   ]
  },
  {
   "cell_type": "markdown",
   "metadata": {},
   "source": []
  },
  {
   "cell_type": "markdown",
   "metadata": {},
   "source": [
    "# Dividir el dataset en variables independientes (X) y dependientes (y)\n"
   ]
  },
  {
   "cell_type": "markdown",
   "metadata": {},
   "source": [
    "# Dividir los datos en conjuntos de entrenamiento y prueba (80% entrenamiento, 20% prueba)\n"
   ]
  },
  {
   "cell_type": "markdown",
   "metadata": {},
   "source": [
    "# Crear el modelo de regresión lineal\n"
   ]
  },
  {
   "cell_type": "markdown",
   "metadata": {},
   "source": [
    "# Entrenar el modelo con los datos de entrenamiento\n"
   ]
  },
  {
   "cell_type": "markdown",
   "metadata": {},
   "source": [
    "# Realizar predicciones con los datos de prueba\n"
   ]
  },
  {
   "cell_type": "markdown",
   "metadata": {},
   "source": [
    "# Visualizar los resultados\n"
   ]
  },
  {
   "cell_type": "markdown",
   "metadata": {},
   "source": [
    "# Evaluar el modelo con el error cuadrático medio y el R2\n"
   ]
  },
  {
   "cell_type": "markdown",
   "metadata": {},
   "source": [
    "# Coeficiente y la intersección de la recta de regresión\n"
   ]
  },
  {
   "cell_type": "markdown",
   "metadata": {},
   "source": [
    "# Con Advertising Dataset\n",
    "\n",
    "https://www.kaggle.com/datasets/ashydv/advertising-dataset"
   ]
  }
 ],
 "metadata": {
  "language_info": {
   "name": "python"
  }
 },
 "nbformat": 4,
 "nbformat_minor": 2
}
