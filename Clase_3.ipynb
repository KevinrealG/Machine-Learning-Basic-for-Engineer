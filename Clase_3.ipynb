{
 "cells": [
  {
   "cell_type": "markdown",
   "metadata": {},
   "source": [
    "# Redes Neuronales\n",
    "## Profesor: Kevin Sossa\n",
    "## Curso: Machine Learning\n",
    "## Estudiante: "
   ]
  },
  {
   "cell_type": "markdown",
   "metadata": {},
   "source": [
    "> Objetivo General: Entender el funcionamiento de una neurona artificial  y construir una red neuronal básica en Python para resolver problemas de clasificación binaria."
   ]
  },
  {
   "cell_type": "code",
   "execution_count": null,
   "metadata": {},
   "outputs": [],
   "source": [
    "# Importar bibliotecas necesarias\n",
    "import pandas as pd\n",
    "from sklearn.model_selection import train_test_split\n",
    "from sklearn.preprocessing import LabelEncoder, StandardScaler\n",
    "from sklearn.linear_model import Perceptron\n",
    "from sklearn.metrics import accuracy_score, classification_report\n",
    "\n",
    "# 1. Cargar el conjunto de datos\n",
    "url = \"https://raw.githubusercontent.com/datasets/loan-approval/main/data.csv\"  # Cambia esta URL si tienes el archivo localmente\n",
    "data = pd.read_csv(url)\n",
    "\n",
    "# Mostrar las primeras filas para inspección\n",
    "print(data.head())\n",
    "\n",
    "# 2. Preprocesamiento\n",
    "# a) Eliminar filas con valores nulos\n",
    "data.dropna(inplace=True)\n",
    "\n",
    "# b) Codificar variables categóricas\n",
    "label_encoders = {}\n",
    "categorical_columns = ['Gender', 'Married', 'Education', 'Self_Employed', 'Property_Area', 'Loan_Status']\n",
    "for col in categorical_columns:\n",
    "    label_encoders[col] = LabelEncoder()\n",
    "    data[col] = label_encoders[col].fit_transform(data[col])\n",
    "\n",
    "# c) Escalar variables numéricas\n",
    "numerical_columns = ['ApplicantIncome', 'CoapplicantIncome', 'LoanAmount', 'Loan_Amount_Term', 'Credit_History']\n",
    "scaler = StandardScaler()\n",
    "data[numerical_columns] = scaler.fit_transform(data[numerical_columns])\n",
    "\n",
    "# 3. Dividir el conjunto de datos\n",
    "X = data.drop('Loan_Status', axis=1)\n",
    "y = data['Loan_Status']\n",
    "\n",
    "X_train, X_test, y_train, y_test = train_test_split(X, y, test_size=0.2, random_state=42, stratify=y)\n",
    "\n",
    "# 4. Entrenar el modelo Perceptron\n",
    "model = Perceptron(max_iter=1000, eta0=0.01, random_state=42)\n",
    "model.fit(X_train, y_train)\n",
    "\n",
    "# 5. Evaluación del modelo\n",
    "y_pred = model.predict(X_test)\n",
    "\n",
    "print(\"\\nAccuracy:\", accuracy_score(y_test, y_pred))\n",
    "print(\"\\nClassification Report:\\n\", classification_report(y_test, y_pred))\n",
    "\n",
    "# 6. Interpretación del modelo (opcional)\n",
    "# Coeficientes del modelo (pesos)\n",
    "print(\"\\nPesos del modelo:\\n\", model.coef_)\n"
   ]
  }
 ],
 "metadata": {
  "language_info": {
   "name": "python"
  }
 },
 "nbformat": 4,
 "nbformat_minor": 2
}
