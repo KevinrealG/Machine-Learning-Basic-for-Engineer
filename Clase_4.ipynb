{
 "cells": [
  {
   "cell_type": "markdown",
   "metadata": {},
   "source": [
    "# Modelos No Supervisados\n",
    "## Profesor: Kevin Sossa\n",
    "## Curso: Machine Learning\n",
    "## Estudiante: "
   ]
  },
  {
   "cell_type": "markdown",
   "metadata": {},
   "source": [
    "> Objetivo: Implementar un modelo de clustering para un conjunto de datos de su elección. Y Aplicar un modelo de reducción de dimensionalidad para visualizar los clusters."
   ]
  }
 ],
 "metadata": {
  "language_info": {
   "name": "python"
  }
 },
 "nbformat": 4,
 "nbformat_minor": 2
}
